{
 "cells": [
  {
   "cell_type": "markdown",
   "metadata": {
    "collapsed": false,
    "jupyter": {
     "outputs_hidden": false
    }
   },
   "source": [
    "# 📘 Semi-Implicit PIC Solver in Electromagnetic Fields\n",
    "\n",
    "\n",
    "This project implements a **semi-implicit Particle-in-Cell (PIC) solver** for simulating\n",
    "particle motion in **electric** and **magnetic fields**, inspired by the formulations from\n",
    "**Vu & Brackbill (1982)** and **Lapenta (2006)**.\n",
    "\n"
   ]
  },
  {
   "cell_type": "markdown",
   "metadata": {
    "collapsed": false,
    "jupyter": {
     "outputs_hidden": false
    }
   },
   "source": [
    "# 🧩 Core Algorithm Steps\n",
    "\n",
    "## Initialization\n",
    "- Simulation Paramter: 3D\n",
    "- Border: 25 x 25 x 25\n",
    "- Grid Points: 10 x 10 x 10\n",
    "- Particle per Cell(NPpCell): 20\n",
    "- Implicit : Theta 0.5 <br/>\n",
    "### Grid\n",
    "- Grid is saved as Mesh (X,Y,Z) np.meshgrid   so you get Xpositon with X[x][y][z] <br/>\n",
    "- The Cmd :\"Indexing i,j\" Is for the Order of Dimension x,y,z  if you choose x,y it whould switches bc it just does [arrayx*y]*z  \n",
    "- Grid Point Has Fields\n",
    "- Every Grid Point 1 Electric Field ($\\theta$) and Magnetic Field\n",
    "- Also density $\\rho$ <br/>\n",
    "\n",
    "#### Computational Particel\n",
    "- Group Of particles it Represent(Constant)\n",
    "- with Custum Shape Function Exists between the Grid Points\n",
    "- Velocity,Force,Elekctric Field,Magnetic Field <br/>\n",
    "- Are all 3 Dimensional First Index (x,y,z) <br/>\n",
    "- Second Index Particel Index  Total=(NPpCell*VolumeGridpoints(100)) <br/>\n",
    "### CFl Condition\n",
    "$$\n",
    "\\begin{align}\n",
    "  & \\varepsilon < v_{\\text{th}} \\frac{\\Delta t}{\\Delta x} < 1 \\quad \\text{mit } v_{\\text{th}} = c \\\\\n",
    "  & \\Delta x \\sim \\lambda_p = \\sqrt{ \\frac{\\varepsilon_0 k_B T}{n_e e^2} }  \\quad \\quad\n",
    "   v_{\\text{th}} = \\sqrt{ \\frac{k_B T}{m} }  \\quad \\quad\n",
    "   \\Delta t \\sim \\omega_{pe}^{-1} = \\sqrt{ \\frac{\\varepsilon_0 m}{n e^2} } \\\\\n",
    "  &f(v) = \\sqrt{\\frac{m}{2\\pi k_B T}} \\exp\\left( -\\frac{m v^2}{2 k_B T} \\right)\n",
    "\\end{align}\n",
    "$$"
   ]
  },
  {
   "cell_type": "markdown",
   "metadata": {},
   "source": [
    "## Final Result: \n",
    "**To keep in Mind the Operator mu or better the Shapefunction transports from Particle Space to Grid Space. Operator R stays in the Particle Space** <br/>\n",
    "<br/>\n",
    "$$\n",
    "\\begin{aligned}\n",
    "&\\mu (\\vec{k}) = 4\\pi \\theta\\Delta t \\sum_p q_p  \\beta_p R_p(\\vec{k}) S\\left(\\mathbf{x}-\\mathbf{x}^n\\right) \\\\ \n",
    "&\\hat{\\rho}^n=\\rho^n-\\Delta t \\theta \\nabla \\cdot \\hat{\\mathbf{J}}^n \\\\\n",
    "& R_p(\\vec{k}) =\\frac{\\vec{k}+\\frac{\\beta_p}{ c} \\vec{k} \\times \\mathbf{B}_p^n+\\frac{\\beta^2_p}{ c^2}\\left(\\vec{k} \\cdot \\mathbf{B}_p^n\\right) \\mathbf{B}_p^n}{1+\\frac{\\beta_p^2}{ c^2}\\left|B_p^n\\right|^2}\\\\\n",
    "&\\hat{\\mathbf{J}}^n=\\sum_p q_p R_p\\left(\\mathbf{v}_p\\right)  S\\left(\\mathbf{x}-\\mathbf{x}^n\\right)-\\theta \\Delta t \\nabla \\cdot \\sum_p q_p |R_p\\left(\\mathbf{v}_p\\right)|^2  S\\left(\\mathbf{x}-\\mathbf{x}^n\\right)\n",
    "\\end{aligned}\n",
    "$$ \n",
    "<br/>\n",
    "$$\n",
    "\\begin{aligned}\n",
    "& = \\mathbf{E}^{n+\\theta} + \\mu( \\mathbf{E}^{n+\\theta})\n",
    "- (c\\theta\\Delta t)^2 \n",
    "\\left[\n",
    "\\nabla^2 \\mathbf{E}^{n+\\theta}\n",
    "+ \\nabla \\nabla \\cdot (\\mu \\cdot \\mathbf{E}^{n+\\theta})\n",
    "\\right] \n",
    "\\\\[2ex]\n",
    " & =\n",
    "\\mathbf{E}^n\n",
    "+ c\\theta\\Delta t \\left( \\nabla \\times \\mathbf{B}^n - \\frac{4\\pi}{c} \\hat{\\mathbf{J}}^n \\right)\n",
    "- (c\\theta\\Delta t)^2 4\\pi \\nabla \\hat{\\rho}^n \\\\\n",
    "\\end{aligned}\n",
    "$$\n",
    "### This Forms this Matrix Equation\n",
    "$$\n",
    "\\begin{aligned}\n",
    "\\mathbf{A} \\vec{E}^{n+\\theta} =\\vec{b}\n",
    "\\end{aligned}\n",
    "$$\n"
   ]
  },
  {
   "cell_type": "markdown",
   "metadata": {},
   "source": [
    "# Maxwell Equation\n",
    "$$\n",
    "\\begin{aligned}\n",
    "&\\text{Gauss's law for electricity:} && \\nabla \\cdot \\mathbf{E} = 4\\pi \\rho \\\\\n",
    "&\\text{Gauss's law for magnetism:} && \\nabla \\cdot \\mathbf{B} = 0 \\\\\n",
    "&\\text{Faraday's law of induction:} && \\nabla \\times \\mathbf{E} = -\\frac{1}{c} \\frac{\\partial \\mathbf{B}}{\\partial t} \\\\\n",
    "&\\text{Ampère's law (with Maxwell's correction):} && \\nabla \\times \\mathbf{B} = \\frac{1}{c} \\frac{\\partial \\mathbf{E}}{\\partial t} + \\frac{4\\pi}{c} \\mathbf{J}\n",
    "\\end{aligned}\n",
    "$$\n"
   ]
  },
  {
   "cell_type": "markdown",
   "metadata": {},
   "source": [
    "# Developing Step with Loop j\n",
    "At the Moments is the Implemenation that only the Field to Particle gets Iterative updated <br/>\n",
    "unclear if it should iterate over the Shaperfunction. <br/>\n",
    "**Step 0  <br/>\n",
    "$(x_p^{n})_{j=0}=x_p^{n}$** <br/>\n",
    "**$(v_p^{n})_{j=0}=v_p^{n}$**\n",
    "## Moment Gathering:\n",
    "Partikel to Grid\n",
    "$$\n",
    "\\rho^{n}_i = \\sum_p q_p S\\!\\left(\\mathbf{x}_i - (\\mathbf{x_p}^{n})_{j}\\right)\n",
    "$$\n",
    "Shaper Function berechnet ein Gewicht bassierend auf dem Abstand zu den nächsten Gridpoints. <br/>\n",
    "Außerdem berechenn von\n",
    "- $\\hat{J} \\left( (v_p^{n})_{j=0} , (x_p^{n})_{j=0} \\right)$\n",
    "- $\\hat{\\rho}$\n",
    "Damit erhält man $\\vec{b}$\n",
    "$$\n",
    "\\begin{aligned}\n",
    "\\vec{b} & =\\mathbf{E}^n + c\\theta\\Delta t \\left( \\nabla \\times \\mathbf{B}^n - \\frac{4\\pi}{c} \\hat{\\mathbf{J}}^n \\right) - (c\\theta\\Delta t)^2 4\\pi \\nabla \\hat{\\rho}^n\n",
    "\\end{aligned}\n",
    "$$\n",
    "### Solve with this $E^{n+\\theta}$ GMRES Method\n",
    "**This Method Includes Evolvded Particle Density $\\rho$ and Currents J**<br/> \n",
    "Convert Fields to Particle:\n",
    "$$\n",
    "\\begin{aligned}\n",
    "& \\hat{\\mathbf{v}}_p = \\mathbf{v}_p^n + \\frac{q_p \\Delta t}{2 m_p} \\mathbf{E}_p^{n+\\theta}((x_p^{n})_{j}) \\\\[1em]\n",
    "& (\\mathbf{v}_p)_{j} = R \\;\\bigl(\\hat{\\mathbf{v}}_p\\bigr) \\\\[1em]\n",
    "& (x_p^{n})_{j+1} = x_p^{n} + \\frac12 \\Delta t \\, (v_p^{n})_{j}\n",
    "\\end{aligned}\n",
    "$$\n",
    "# After Itereation K Resolve\n",
    "$$\n",
    "\\begin{aligned}\n",
    "& \\mathbf{B}^{n+1} = \\mathbf{B}^n - c \\Delta t \\nabla \\times \\mathbf{E}^{n+\\theta} \\\\\n",
    "& \\mathbf{E}^{n+1} = \\frac{\\mathbf{E}^{n+\\theta} - (1-\\theta) \\mathbf{E}^n}{\\theta} \\\\\n",
    "& \\text{mit } \\theta = 0.5 \\\\\n",
    "& \\mathbf{E}^{n+1} = 2\\mathbf{E}^{n+\\theta} - \\mathbf{E}^n \\\\\n",
    "& \\mathbf{v}^{n+1} = 2\\mathbf{v}^{n+\\theta} - \\mathbf{v}^n \\\\\n",
    "& \\mathbf{x}^{n+1} = \\mathbf{x}_p^n + \\mathbf{v}^{n+\\theta} \\Delta t\n",
    "\\end{aligned}\n",
    "$$\n",
    "\n",
    "**Code Implenetation Side Node** <br/>\n"
   ]
  },
  {
   "cell_type": "markdown",
   "metadata": {},
   "source": [
    "# Math Operation used During Calc. for $E^{n+\\theta}$\n",
    "\n",
    "$$\n",
    "\\begin{aligned}\n",
    "A \\cdot \\mathbf{E}^{n+\\theta} \n",
    "&= (\\mathbf{I} + \\mu) \\cdot \\mathbf{E}^{n+\\theta} \n",
    "- (c\\theta\\Delta t)^2 \n",
    "\\bigl[ \\nabla^2 \\mathbf{E}^{n+\\theta} \n",
    "+ \\nabla \\nabla \\cdot (\\mu \\cdot \\mathbf{E}^{n+\\theta}) \\bigr]\n",
    "\\end{aligned}\n",
    "$$\n",
    "\n",
    "### Implementierung aller Ableitungen\n",
    "- $\\nabla^2$ (Laplace) Vektorfeld $F$: $F_i$ nach $x^2,y^2,z^2$ abgeleitet\n",
    "- $\\nabla \\nabla$ (Grad(Div($\\boldsymbol{\\cdot}$))) Summe aus part. Ableitungen\n",
    "- $\\nabla \\times$ (Curl)\n",
    "- $\\nabla$ (Divergence)\n",
    "\n",
    "**Notiz:**\n",
    "$$\n",
    "\\text{grad}(\\text{div}(\\mathbf{F})) \n",
    "= \\nabla (\\nabla \\cdot \\mathbf{F}) \n",
    "= \\left( \n",
    "\\frac{\\partial}{\\partial x} (\\nabla \\cdot \\mathbf{F}), \n",
    "\\frac{\\partial}{\\partial y} (\\nabla \\cdot \\mathbf{F}), \n",
    "\\frac{\\partial}{\\partial z} (\\nabla \\cdot \\mathbf{F})\n",
    "\\right)\n",
    "$$\n",
    "\n",
    "\n"
   ]
  },
  {
   "cell_type": "markdown",
   "metadata": {},
   "source": [
    "## Deposition From Particles to Grid and vise versa for Later Fields\n",
    "- **Iter** Particle <br/>\n",
    "    - Take Pos X,Y,Z Devide my d(x,y,z)\n",
    "    - Floor it (int())\n",
    "    - Calcalate all 8 Volume if +1  Volume Distribution and Add them to Gridpoints (-1)^m*(x-xp)*(y-yp)*(z-zp) **Wrong Potentially**\n",
    "    -  do 1d each and multiplay easier\n",
    "    -  use Reaptive MApping Modulo <br/>\n",
    "\n",
    "From Code PIC II ion background to neutralize:                   **Not Implemented** <br/>\n",
    "- rho -= NP/mx \n",
    "- rho *= 2*NPpCell*charge/dx\n",
    "**Also for Current**"
   ]
  },
  {
   "cell_type": "markdown",
   "metadata": {},
   "source": [
    "\n",
    "\n",
    "\n",
    "**Sanity Check (Energy Balance):**\n",
    "- $\\mathbf{Electric Energy} \\quad 0.5 \\sum (Efield^2)*dx$\n",
    "- $\\mathbf{Total Engery}$\n",
    "- $\\mathbf{Kinetic Energy} \\quad 0.5*\\rho_{weight} \\sum (vp^2)*dx$ <br/>\n",
    "**t=t+dt**"
   ]
  },
  {
   "cell_type": "code",
   "execution_count": 5,
   "metadata": {
    "ExecuteTime": {
     "end_time": "2025-07-25T10:37:56.918063Z",
     "start_time": "2025-07-25T10:37:56.902850Z"
    }
   },
   "outputs": [
    {
     "name": "stdout",
     "output_type": "stream",
     "text": [
      "\n"
     ]
    }
   ],
   "source": [
    "\"\"\"\n",
    "There Is A Line Break to See.      (╯°□°)╯︵ ┻━┻\n",
    "\"\"\"\n",
    "print()"
   ]
  },
  {
   "attachments": {},
   "cell_type": "markdown",
   "metadata": {},
   "source": [
    "# Derivation Intermediate Velocity\n",
    "### Particle Mover (Semi-Implicit)  in CGS: Gauss System (SI without c) c =29,979,245,800 cm/s\n",
    "Update particle positions f is Placeholder for Future Particle Position:\n",
    "        $$\n",
    "          \\vec{x}^{n+1} = \\vec{x}^n + \\mathbf{v}_f \\; \\Delta t\n",
    "        $$\n",
    "Update particle velocities with a semi-implicit scheme. Here is Half Step Derivative:\n",
    "$$ \\begin{align}\n",
    "             \\frac{\\vec{v}^{n+1} - \\vec{v}^n}{\\Delta t} = \\frac{q}{m}\\left( \\vec{E}^{n+\\theta}(x_f) + \\frac{\\vec{v}_f  \\times \\vec{B}(x^{n}_p)}{c} \\right) \n",
    "\\end{align}$$\n",
    "Futre Position und velocity will be set at Half Point:\n",
    "$$ \\begin{align}\n",
    "           \\mathbf{v}_f =\\mathbf{v}_{\\theta} \\quad \\quad \\theta=0.5 \\\\\n",
    "          \\vec{\\mathbf{v}}^{n+1}=\\frac{\\vec{\\mathbf{v}}_f - \\vec{\\mathbf{v}}^n}{\\theta}+\\vec{\\mathbf{v}}^n           \n",
    "\\end{align}$$\n",
    "$$\n",
    "\\begin{align}\n",
    "\\mathbf{v}_f=\\mathbf{v}_p^n+ \\theta \\frac{q_p \\Delta t}{ m_p}\\left(\\mathbf{E}_p^{n+\\theta}+ \\frac{\\mathbf{v}_f \\times \\mathbf{B}_p^n}{c}\\right) \\quad | \\times B \\quad , \\quad \\cdot B \\\\\n",
    "\\end{align}$$\n",
    "$$\n",
    "\\begin{align}\n",
    "\\mathbf{v}_f \\times \\mathbf{B}_p^n=\\mathbf{v}_p^n \\times \\mathbf{B}_p^n+\\frac{q_p \\theta \\Delta t}{ m_p}\\left(\\mathbf{E}_p^{n+\\theta} \\times \\mathbf{B}_p^n + \\frac{\\mathbf{v}_f \\times \\mathbf{B}_p^n}{c} \\times \\mathbf{B}_p^n\\right)\\\\\n",
    "\\mathbf{v}_f \\cdot \\mathbf{B}_p^n=\\mathbf{v}_p^n \\cdot \\mathbf{B}_p^n+\\frac{q_p \\Delta t \\theta}{m_p}\\left(\\mathbf{E}_p^{n+\\theta} \\cdot \\mathbf{B}_p^n + \\frac{\\mathbf{v}_f \\times \\mathbf{B}_p^n}{c} \\cdot \\mathbf{B}_p^n\\right)\n",
    "\\end{align}\n",
    "$$ Bei der zweiten Gleichung fällt der zweite Term per Definition weg und damit $\\left(\\mathbf{v}_f \\times \\mathbf{B}_p^n\\right) \\times \\mathbf{B}_p^n=-\\mathbf{v}_f\\left|B_p^{n}\\right|^2+\\left(\\mathbf{v}_f \\cdot \\mathbf{B}_p^n\\right) \\cdot \\mathbf{B}_p^n \\quad\n",
    "$ **Folgt:**\n",
    "$$\n",
    "\\begin{align}\n",
    "\\mathbf{v}_f \\times \\mathbf{B}_p^n &= \\mathbf{v}_p^n \\times \\mathbf{B}_p^n + \\frac{q_p \\Delta t \\theta}{ m_p} \\left( \\mathbf{E}_p^{n+\\theta} \\times \\mathbf{B}_p^n + \\color{red}{(\\mathbf{v}_f \\cdot \\mathbf{B}_p^n) \\mathbf{B}_p^n} - \\color{black}{\\frac{\\mathbf{v}_f |\\mathbf{B}_p^n|^2}{c}} \\right) \\\\\n",
    "&= \\mathbf{v}_p^n \\times \\mathbf{B}_p^n + \\frac{q_p \\Delta t \\theta}{ m_p} \\left( \\mathbf{E}_p^{n+\\theta} \\times \\mathbf{B}_p^n + \\color{red}{\\frac{\\mathbf{v}_p^n \\cdot \\mathbf{B}_p^n}{c} \\mathbf{B}_p^n + \\frac{q_p \\Delta t \\theta}{ m_p c} \\left( \\mathbf{E}_p^{n+\\theta} \\cdot \\mathbf{B}_p^n \\right) \\mathbf{B}_p^n} - \\color{black}{\\frac{\\mathbf{v}_f |\\mathbf{B}_p^n|^2}{c}} \\right)\n",
    "\\end{align}\n",
    "$$\n",
    "Reuse Velocity and define:\n",
    "$$\n",
    "\\hat{\\mathbf{v}}_p=\\mathbf{v}_p^n+\\frac{q_p \\Delta t \\theta}{ m_p} \\mathbf{E}_p^{n+\\theta}\n",
    "$$\n",
    "this leads to this Equation:\n",
    "$$\n",
    "\\begin{align}\n",
    "\\mathbf{v}_f \\times \\mathbf{B}_p^n = \\hat{\\mathbf{v}}_p \\times \\mathbf{B}_p^n + \\frac{q_p \\Delta t \\theta}{ m_p c} (\\hat{\\mathbf{v}}_p \\cdot \\mathbf{B}_p^n ) \\mathbf{B}_p^n  - \\frac{\\mathbf{v}_f |\\mathbf{B}_p^n|^2}{c}\n",
    "\\end{align}\n",
    "$$\n",
    "Durch Umstellen nach $\\mathbf{v}_f$ erhält. herleitung etwas lengthy Thats why skip:\n",
    "$$\n",
    "\\boxed{\n",
    "\\rule{0pt}{3ex}\n",
    "\\mathbf{v}_f=\\frac{\\hat{\\mathbf{v}}_p+\\frac{q_p \\Delta t \\theta}{ m_p c}\\left(\\hat{\\mathbf{v}}_p \\times \\mathbf{B}_p^n+\\frac{q_p \\Delta t \\theta}{ m_p c}\\left(\\hat{\\mathbf{v}}_p \\cdot \\mathbf{B}_p^n\\right) \\mathbf{B}_p^n\\right)}{1+\\frac{q_p^2 \\Delta t^2 \\theta^2}{ m_p^2 c^2}\\left|B_p^n\\right|^2}\n",
    "\\rule[-1.5ex]{0pt}{3ex}\n",
    "}\n",
    "$$\n",
    "**$\\mathbf{v_f}$ $\\theta$ is set to 0.5**"
   ]
  },
  {
   "cell_type": "markdown",
   "metadata": {
    "collapsed": false,
    "jupyter": {
     "outputs_hidden": false
    }
   },
   "source": [
    "# Derivation of Linearized Electromagnetic Field Equations\n",
    "\n",
    "Starting with the given time-stepping equations for the electromagnetic fields:\n",
    "$$\n",
    "\\begin{aligned}\n",
    "& \\mathbf{B}^{n+1} = \\mathbf{B}^n - c \\Delta t \\nabla \\times \\mathbf{E}^{n+\\theta}, \\\\\n",
    "& \\mathbf{E}^{n+1} = \\mathbf{E}^n + c \\Delta t \\left( \\nabla \\times \\mathbf{B}^{n+\\theta} - \\frac{4 \\pi}{c} \\mathbf{J}^{n+\\theta} \\right),\n",
    "\\end{aligned}\n",
    "$$\n",
    "we apply the linear interpolation for the fields at the intermediate time step $n+\\theta$:\n",
    " $\\mathbf{E}$, $\\mathbf{B}$. Substituting into the equations, we get:\n",
    "$$\n",
    "\\begin{aligned}\n",
    "& \\mathbf{E}^{n+\\theta} = (1 - \\theta) \\mathbf{E}^n + \\theta \\mathbf{E}^{n+1}, \\\\\n",
    "& \\mathbf{B}^{n+\\theta} = (1 - \\theta) \\mathbf{B}^n + \\theta \\mathbf{B}^{n+1}, \\\\\n",
    "\\end{aligned}\n",
    "$$\n",
    "Than we plug in\n",
    "$$\n",
    "\\begin{aligned}\n",
    "& \\mathbf{E}^{n+\\theta} = (1 -  \\textcolor{green}{\\theta) \\mathbf{E}^n} +  \\textcolor{green}{\\theta \\mathbf{E}^n} +\\theta c \\Delta t \\left( \\nabla \\times \\mathbf{B}^{n+\\theta} - \\frac{4 \\pi}{c} \\mathbf{J}^{n+\\theta} \\right) \\\\\n",
    "& \\textcolor{red}{\\nabla \\times} \\mathbf{B}^{n+\\theta}\n",
    "= \\textcolor{red}{\\nabla \\times} (1 - \\textcolor{green}{\\theta) \\mathbf{B}^n}\n",
    "+ \\textcolor{red}{\\nabla \\times} \\textcolor{green}{\\theta \\mathbf{B}^n}\n",
    "- \\textcolor{red}{\\nabla \\times} \\theta c \\Delta t \n",
    "\\nabla \\times \\mathbf{E}^{n+\\theta} \\\\\n",
    "&\\nabla \\times(\\nabla \\times \\mathbf{E})=\\nabla(\\nabla \\cdot \\mathbf{E})−\\nabla^2\\mathbf{E}=4\\pi\\nabla(\\mathbf{\\rho})−\\nabla^2\\mathbf{E}\n",
    "\\end{aligned}\n",
    "$$\n",
    "Green Terms Cancel and B gets plugged in in E\n",
    "$$\n",
    "\\boxed{\n",
    "\\rule{0pt}{3ex}\n",
    "\\mathbf{E}^{n+\\theta} \n",
    "- (c\\theta\\Delta t)^2 \\nabla^2 \\mathbf{E}^{n+\\theta}\n",
    "= \n",
    "\\mathbf{E}^n \n",
    "+ c\\theta\\Delta t \\left( \\nabla \\times \\mathbf{B}^n - \\frac{4\\pi}{c} \\mathbf{J}^{n+\\theta} \\right)\n",
    "- (c\\theta\\Delta t)^2 4\\pi \\nabla \\rho^{n+\\theta}\n",
    "\\rule[-1.5ex]{0pt}{3ex}\n",
    "}\n",
    "$$\n",
    "# Derivation of Evolved Moments at $\\theta$\n",
    "\n",
    "Here, $i$ denotes the index of the spatial grid.\n",
    "\n",
    "$$\n",
    "\\begin{aligned}\n",
    "\\rho^{n}_i &= \\sum_p q_p S\\!\\left(\\mathbf{x}_i - \\mathbf{x}_p^{n}\\right), \\\\\n",
    "\\mathbf{J}^{n} &= \\sum_p q_p \\mathbf{v}_p S\\!\\left(\\mathbf{x} - \\mathbf{x}_p^{n}\\right).\n",
    "\\end{aligned}\n",
    "$$\n",
    "**Taylor expansion of $\\rho$ around $\\mathbf{x}^n$:**\n",
    "$$\n",
    "\\begin{align}\n",
    "&\\rho(x^{n+\\theta})=\\rho^{n}+(x^{n+\\theta}-x^{n})\\nabla \\sum_p q_p S(x-x^{n}) \\\\\n",
    "&(x^{n+\\theta}-x^{n})=-\\theta  \\mathbf{v}_p \\Delta t \\\\\n",
    "&\\rho^{n+\\theta}=\\rho^{n}-\\theta \\Delta t \\nabla \\cdot J^{n+\\theta}\n",
    "\\end{align}\n",
    "$$\n",
    "**First Rewrite the Velocity in A Shorter Form:**\n",
    "The the previous solved velocity will be put in: $\n",
    "\\mathbf{v}_f=\\frac{\\hat{\\mathbf{v}}_p+\\frac{q_p \\Delta t}{2 m_p c}\\left(\\hat{\\mathbf{v}}_p \\times \\mathbf{B}_p^n+\\frac{q_p \\Delta t}{2 m_p c}\\left(\\hat{\\mathbf{v}}_p \\cdot \\mathbf{B}_p^n\\right) \\mathbf{B}_p^n\\right)}{1+\\frac{q_p^2 \\Delta t^2}{4 m_p^2 c^2}\\left|B_p^n\\right|^2}$\n",
    "$$\n",
    "\\begin{aligned}\n",
    "&\\mathbf{v}_f = R_p(\\hat{\\mathbf{v}}_p) \\quad \\quad \\beta_p=\\frac{q_p \\Delta t}{2 m_p} \\quad \\quad \\hat{\\mathbf{v}}_p=\\mathbf{v}_p^n+\\beta_p \\mathbf{E}_p^{n+\\theta} \\\\\n",
    "&R_p(\\vec{k}) =\\frac{\\vec{k}+\\frac{\\beta_p}{ c} \\vec{k} \\times \\mathbf{B}_p^n+\\frac{\\beta^2_p}{ c^2}\\left(\\vec{k} \\cdot \\mathbf{B}_p^n\\right) \\mathbf{B}_p^n}{1+\\frac{\\beta_p^2}{ c^2}\\left|B_p^n\\right|^2}\\\\\n",
    "&\\mathbf{v}_f = R_p( \\mathbf{v}_p^n ) + \\beta_p R_p ( \\mathbf{E}_p^{n+\\theta})\n",
    "\\end{aligned}\n",
    "$$\n",
    "**Now with the last eqaution Taylor also for  J:**\n",
    "$$\n",
    "\\mathbf{J}^{n+\\theta}=\\sum_p q_p \\mathbf{v}_{f,p} S\\left(\\mathbf{x}-\\mathbf{x}^n\\right)-\\theta \\Delta t \\nabla \\cdot \\sum_p q_p |\\mathbf{v}_f |^2_p \\; S\\left(\\mathbf{x}-\\mathbf{x}^n\\right)\n",
    "$$\n",
    "For The Velocity you get $\\hat{\\mathbf{J}}^n$ and the mixed Terms with E are sorted behind and the red Terms are approx as 0.:\n",
    "$$\n",
    "\\begin{aligned}\n",
    "&\\hat{\\mathbf{J}}^n=\\sum_p q_p R_p\\left(\\mathbf{v}_p\\right)  S\\left(\\mathbf{x}-\\mathbf{x}^n\\right)-\\theta \\Delta t \\nabla \\cdot \\sum_p q_p |R_p\\left(\\mathbf{v}_p\\right)|^2  S\\left(\\mathbf{x}-\\mathbf{x}^n\\right)\\\\\n",
    "&\\mathbf{J}^{n+\\theta}=\\hat{\\mathbf{J}}^n+\\sum_p q_p  \\beta_p R_p\\left(\\mathbf{E}^{n+\\theta}\\right) \\; S\\left(\\mathbf{x}-\\mathbf{x}^n\\right)\\color{red}{ -\\theta \\Delta t \\nabla \\cdot \\sum_p q_p \\beta_p R_p\\left(\\mathbf{E}^{n+\\theta}\\right) \\; R_p (\\mathbf{v}_p) S\\left(\\mathbf{x}-\\mathbf{x}^n\\right)- \\theta \\Delta t \\nabla \\sum_p q_p    \\left (\\beta_p R_p(\\mathbf{E}^{n+\\theta}) \\right)^2 } \\\\\n",
    "\\end{aligned}\n",
    "$$\n",
    "\n",
    "So the final equation becomes:\n",
    "$$\n",
    "\\begin{aligned}\n",
    "\\mathbf{J}^{n+\\theta}\n",
    "&= \\hat{\\mathbf{J}}^n \n",
    "+ \\sum_p q_p \\, \\beta_p \\, R_p\\!\\bigl(\\mathbf{E}^{n+\\theta}\\bigr) \\, S\\!\\bigl(\\mathbf{x} - \\mathbf{x}^n\\bigr) \n",
    "\\\\[1.2ex]\n",
    "\\rho^{n+\\theta}\n",
    "&= \\rho^n - \\theta \\Delta t \\, \\nabla \\cdot \\mathbf{J}^{n+\\theta}\n",
    "\\\\[1.2ex]\n",
    "\\end{aligned}\n",
    "$$\n",
    "Einführung von Helfer Variable:\n",
    "$$\n",
    "\\begin{aligned}\n",
    "\\hat{\\rho}^n \n",
    "&= \\rho^n - \\theta \\Delta t \\, \\nabla \\cdot \\hat{\\mathbf{J}}^n\n",
    "\\\\[1.2ex]\n",
    "\\rho^{n+\\theta}\n",
    "&= \\hat{\\rho}^n \n",
    "- \\theta \\Delta t \\, \\nabla \\cdot \\sum_p q_p \\, \\beta_p \\, R_p\\!\\bigl(\\mathbf{E}^{n+\\theta}\\bigr) \\, S\\!\\bigl(\\mathbf{x} - \\mathbf{x}^n\\bigr)\n",
    "\\end{aligned}\n",
    "$$\n",
    "Als Ernnierung die Gleichung die gelöst werden muss\n",
    "$$\n",
    "\\begin{aligned}\n",
    "\\mathbf{E}^{n+\\theta}\n",
    "&- (c \\theta \\Delta t)^2 \\, \\nabla^2 \\mathbf{E}^{n+\\theta}\n",
    "= \\mathbf{E}^n \n",
    "+ c\\theta \\Delta t \\!\\left( \\nabla \\times \\mathbf{B}^n \n",
    "- \\frac{4\\pi}{c} \\mathbf{J}^{n+\\theta} \\right)\n",
    "- (c \\theta \\Delta t)^2 4\\pi \\nabla \\rho^{n+\\theta}\n",
    "\\end{aligned}\n",
    "$$\n",
    "Abhänig von  $\\mathbf{E}^{n+\\theta}$ kommen nun auf der  rechte seite folgende Terme hinzu und werden danach zur linken SEite sortiert:\n",
    "$$\n",
    "\\begin{aligned}\n",
    "\\mathrm{RHS} \n",
    "&= \n",
    "-(c\\theta \\Delta t) \\, \\frac{4\\pi}{c} \n",
    "\\sum_p q_p \\, \\beta_p \\, R_p\\!\\bigl(\\mathbf{E}^{n+\\theta}\\bigr) \\, S\\!\\bigl(\\mathbf{x} - \\mathbf{x}^n\\bigr)\n",
    "\\\\[1.2ex]\n",
    "&\\quad\n",
    "+ (c\\theta \\Delta t)^2 4\\pi \\, \\nabla \\!\\biggl[ \n",
    "\\theta \\Delta t \\, \\nabla \\cdot \n",
    "\\sum_p q_p \\, \\beta_p \\, R_p\\!\\bigl(\\mathbf{E}^{n+\\theta}\\bigr) \\, S\\!\\bigl(\\mathbf{x} - \\mathbf{x}^n\\bigr)\n",
    "\\biggr]\n",
    "\\\\[2ex]\n",
    "\\mu(\\mathbf{k}) \n",
    "&= 4\\pi \\theta \\Delta t \n",
    "\\sum_p q_p \\, \\beta_p \\, R_p(\\mathbf{k}) \\, S\\!\\bigl(\\mathbf{x} - \\mathbf{x}^n\\bigr)\n",
    "\\\\[2ex]\n",
    "\\mathrm{RHS}\n",
    "&= -\\mu\\!\\bigl(\\mathbf{E}^{n+\\theta}\\bigr) \n",
    "+ (c\\theta \\Delta t)^2 \\, \\nabla \\nabla \\cdot \\mu\\!\\bigl(\\mathbf{E}^{n+\\theta}\\bigr)\n",
    "\\end{aligned}\n",
    "$$\n",
    "Nach dem alles Sortiert ist bekommt man dann:\n",
    "$$\n",
    "\\begin{aligned}\n",
    " \\mathbf{E}^{n+\\theta} + \\mu( \\mathbf{E}^{n+\\theta})\n",
    "- (c\\theta\\Delta t)^2 \n",
    "\\left[\n",
    "\\nabla^2 \\mathbf{E}^{n+\\theta}\n",
    "+ \\nabla \\nabla \\cdot (\\mu \\cdot \\mathbf{E}^{n+\\theta})\n",
    "\\right]   = \\mathbf{E}^n\n",
    "+ c\\theta\\Delta t \\left( \\nabla \\times \\mathbf{B}^n - \\frac{4\\pi}{c} \\hat{\\mathbf{J}}^n \\right)\n",
    "- (c\\theta\\Delta t)^2 4\\pi \\nabla \\hat{\\rho}^n \\\\\n",
    "\\end{aligned}\n",
    "$$"
   ]
  },
  {
   "cell_type": "markdown",
   "metadata": {
    "collapsed": false,
    "jupyter": {
     "outputs_hidden": false
    }
   },
   "source": [
    "## 📚 References\n",
    "\n",
    "**ChatGPT**\n",
    "- Vu, H. X., & Brackbill, J. U. (1982). A numerical solution method for the two-dimensional magnetohydrodynamic equations. *Journal of Computational Physics*.\n",
    "- Lapenta, G. (2006). Particle simulations of space weather. *Journal of Computational Physics*.\n",
    "\n",
    "**Own Literature**\n",
    "- Ott, Tobias & Pfeiffer, Marcel. (2023). PIC schemes for multi-scale plasma simulations. 10.13009/EUCASS2023-770.\n"
   ]
  },
  {
   "cell_type": "code",
   "execution_count": 6,
   "metadata": {
    "ExecuteTime": {
     "end_time": "2025-07-25T10:37:57.041061Z",
     "start_time": "2025-07-25T10:37:56.943350Z"
    }
   },
   "outputs": [
    {
     "name": "stdout",
     "output_type": "stream",
     "text": [
      "[[1 2 5 6]\n",
      " [3 4 7 8]]\n",
      "[[1 4]\n",
      " [2 5]\n",
      " [3 6]]\n"
     ]
    }
   ],
   "source": [
    "import numpy as np \n",
    "arr1 = np.array([[1, 2], [3, 4]])\n",
    "arr2 = np.array([[5, 6], [7, 8]])\n",
    "\"\"\"\n",
    "Concatenate Verknüpfen: erst über arr1 dann pber arr2 Iterieren\n",
    "Achsen bestimmt die Ausgangs Achse arr[axis=0][axis=0] \n",
    "Axis 0\n",
    "Mapping Elemente of arr1[index] und speicher in new[index] => Einfach aneinanderhängen\n",
    "Axis 1\n",
    "Mapping Elemente of arr1[:][index] und speicher in new[:][index] => Elemente werden nebeinander ANgehängt \n",
    "\"\"\"\n",
    "arr = np.concatenate((arr1, arr2), axis=1)\n",
    "print(arr)\n",
    "arr1 = np.array([1, 2, 3])\n",
    "arr2 = np.array([4, 5, 6])\n",
    "\"\"\"\"\n",
    "Stacking fügt einfach nur anneinander und zusammenzufügen \n",
    "Axis 0\n",
    "Takes arr1 und put it  in new[index] => Zusammenspeichern getrennt\n",
    "Axis 1\n",
    "Mapping Elemente of arr1 und speicher in new[index][0] für array2 index=1 \n",
    "\"\"\"\n",
    "arr = np.stack((arr1, arr2), axis=1)\n",
    "print(arr)"
   ]
  },
  {
   "cell_type": "code",
   "execution_count": 7,
   "metadata": {
    "ExecuteTime": {
     "end_time": "2025-07-25T10:37:57.640053Z",
     "start_time": "2025-07-25T10:37:57.625892Z"
    }
   },
   "outputs": [
    {
     "name": "stdout",
     "output_type": "stream",
     "text": [
      "(3, 5)\n",
      "(5,)\n",
      "[ 0.  0.  3. 98.  0.]\n"
     ]
    }
   ],
   "source": [
    "arr1 = np.zeros([3,5])\n",
    "print(np.shape(arr1))\n",
    "arr1[:,2]=[1,1,1]\n",
    "arr1[:,3]=[7,0,7]\n",
    "result = np.sum(arr1**2, axis=0)  # Summe der Quadrate entlang axis=0\n",
    "print(np.shape(result))  # Ausgabe: (5,)\n",
    "print(result)"
   ]
  },
  {
   "cell_type": "code",
   "execution_count": 8,
   "metadata": {
    "ExecuteTime": {
     "end_time": "2025-07-25T10:37:57.998796Z",
     "start_time": "2025-07-25T10:37:57.656832Z"
    },
    "collapsed": false,
    "jupyter": {
     "outputs_hidden": false
    }
   },
   "outputs": [
    {
     "ename": "TypeError",
     "evalue": "'NoneType' object cannot be interpreted as an integer",
     "output_type": "error",
     "traceback": [
      "\u001b[1;31m---------------------------------------------------------------------------\u001b[0m",
      "\u001b[1;31mTypeError\u001b[0m                                 Traceback (most recent call last)",
      "Cell \u001b[1;32mIn[8], line 2\u001b[0m\n\u001b[0;32m      1\u001b[0m dim\u001b[38;5;241m=\u001b[39m(\u001b[38;5;241m5\u001b[39m,\u001b[38;5;241m4\u001b[39m,\u001b[38;5;28;01mNone\u001b[39;00m)\n\u001b[1;32m----> 2\u001b[0m J_hat \u001b[38;5;241m=\u001b[39m \u001b[43mnp\u001b[49m\u001b[38;5;241;43m.\u001b[39;49m\u001b[43mzeros\u001b[49m\u001b[43m(\u001b[49m\u001b[43m[\u001b[49m\u001b[38;5;241;43m3\u001b[39;49m\u001b[43m \u001b[49m\u001b[38;5;28;43;01mif\u001b[39;49;00m\u001b[43m \u001b[49m\u001b[38;5;28;43;01mFalse\u001b[39;49;00m\u001b[43m \u001b[49m\u001b[38;5;28;43;01melse\u001b[39;49;00m\u001b[43m \u001b[49m\u001b[38;5;241;43m1\u001b[39;49m\u001b[43m,\u001b[49m\u001b[43m \u001b[49m\u001b[38;5;241;43m*\u001b[39;49m\u001b[43mdim\u001b[49m\u001b[43m]\u001b[49m\u001b[43m)\u001b[49m\n\u001b[0;32m      3\u001b[0m \u001b[38;5;28mprint\u001b[39m(np\u001b[38;5;241m.\u001b[39mshape(J_hat))\n",
      "\u001b[1;31mTypeError\u001b[0m: 'NoneType' object cannot be interpreted as an integer"
     ]
    }
   ],
   "source": [
    "dim=(5,4,None)\n",
    "J_hat = np.zeros([3 if False else 1, *dim])\n",
    "print(np.shape(J_hat))\n"
   ]
  },
  {
   "cell_type": "markdown",
   "metadata": {},
   "source": [
    "https://github.com/FunPhantasie/SemesterProject"
   ]
  },
  {
   "cell_type": "code",
   "execution_count": null,
   "metadata": {},
   "outputs": [],
   "source": []
  }
 ],
 "metadata": {
  "kernelspec": {
   "display_name": "Python 3 (ipykernel)",
   "language": "python",
   "name": "python3"
  },
  "language_info": {
   "codemirror_mode": {
    "name": "ipython",
    "version": 3
   },
   "file_extension": ".py",
   "mimetype": "text/x-python",
   "name": "python",
   "nbconvert_exporter": "python",
   "pygments_lexer": "ipython3",
   "version": "3.10.5"
  }
 },
 "nbformat": 4,
 "nbformat_minor": 4
}
