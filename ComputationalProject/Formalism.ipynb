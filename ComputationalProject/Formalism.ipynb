{
 "cells": [
  {
   "cell_type": "markdown",
   "metadata": {
    "collapsed": false,
    "jupyter": {
     "outputs_hidden": false
    }
   },
   "source": [
    "# 📘 Semi-Implicit PIC Solver in Electromagnetic Fields\n",
    "\n",
    "\n",
    "This project implements a **semi-implicit Particle-in-Cell (PIC) solver** for simulating\n",
    "particle motion in **electric** and **magnetic fields**, inspired by the formulations from\n",
    "**Vu & Brackbill (1982)** and **Lapenta (2006)**.\n",
    "\n"
   ]
  },
  {
   "cell_type": "markdown",
   "metadata": {
    "collapsed": false,
    "jupyter": {
     "outputs_hidden": false
    }
   },
   "source": [
    "# 🧩 Core Algorithm Steps\n",
    "\n",
    "## Initialization\n",
    "- Simulation Paramter 3D\n",
    "- Border 25 x 25 x 25\n",
    "- Grid Points 10 x 10 x 10\n",
    "- Particle per Cell [NPpCell] 20\n",
    "- Implicit : Theta 0.5 <br/>\n",
    "### Grid\n",
    "- Grid is saved as Mesh (X,Y,Z) np.meshgrid   so you get Xpositon with X[x][y][z] <br/>\n",
    "- The Cmd :\"Indexing i,j\" Is for the Order of Dimension x,y,z  if you choose x,y it whould switches bc it just does [arrayx*y]*z  \n",
    "- Grid Point Has Fields\n",
    "- Every Grid Point 1 Electric Field ($\\theta$) and Magnetic Field\n",
    "- Also density $\\rho$ <br/>\n",
    "\n",
    "#### Computational Particel\n",
    "- Group Of particles it Represent(Constant)\n",
    "- with Custum Shape Function Exists between the Grid Points\n",
    "- Velocity,Force,Elekctric Field,Magnetic Field <br/>\n",
    "- Are all 3 Dimensional First Index (x,y,z) <br/>\n",
    "- Second Index Particel Index  Total=(NPpCell*VolumeGridpoints(100)) <br/>\n"
   ]
  },
  {
   "cell_type": "markdown",
   "metadata": {},
   "source": [
    "# Developing Step\n",
    "- **Deposition + Moment Gathering:** Get from Particles to Grid (Computational Particles Density)\n",
    "- **Evolve E**  \n",
    "- **Convert to Particle** Grid Fields to Fp (Calculate Fields for individual Particel)\n",
    " \n",
    "## Itereation Particle Mover (Semi-Implicit)\n",
    "**Iter over i Start for i=0 with:** <br/>\n",
    "\n",
    "**$\\overline{x^{n}}_0=x^{n}$** <br/>\n",
    "\n",
    "**$B^{n}(\\overline{x}_i)$** <br/>\n",
    "\n",
    "Than do Calculation to develop:\n",
    "- $E^{n+\\theta} (\\overline{x}_i)$ <br/>\n",
    "- $\\hat{\\mathbf{v}}_p=\\mathbf{v}_p^n+\\frac{q_p \\Delta t}{2 m_p} \\mathbf{E}_p^{n+\\theta}$ <br/>\n",
    "- Update Velocity $\\overline{\\mathbf{v}}_p= R(\\hat{\\mathbf{v}}_p)$<br/>\n",
    "\n",
    "with that update $\\overline{v_{i}}$ and  evolve:\n",
    "$$\n",
    "\\begin{align}\n",
    " \\overline{x^{n}}_{i+1}=x^{n}_{0}+1/2 \\cdot \\overline{v_{i}} \\cdot \\Delta t\n",
    "\\end{align}\n",
    "$$\n",
    " Iterate with Particles $x^{n}_{i+1}$ <br/>\n",
    " #### Update Fields\n",
    " $$\n",
    "\\begin{aligned}\n",
    "& \\mathbf{B}^{n+1}=\\mathbf{B}^n-c \\Delta t \\nabla \\times \\mathbf{E}^{n+\\theta} \\\\\n",
    "& \\mathbf{E}^{n+1}=\\mathbf{E}^n+c \\Delta t\\left(\\nabla \\times \\mathbf{B}^{n+\\theta}-\\frac{4 \\pi}{c} \\mathbf{J}^{n+\\theta}\\right)\\\\\n",
    "& \\mathbf{E}^{n+1}=\\mathbf{E}^n+ 2 \\cdot \\mathbf{E}^{n+\\theta}\n",
    "\\end{aligned}\n",
    "$$\n",
    " **Code Implenetation Side Node** <br/>\n",
    "Do 1 Iteration to save Helper Variable. $\\overline{x^{n}}$ <br/>\n",
    "Do 2 Loops with this Helper Variable and overwrite Each Time <br/>\n",
    "After calculat last time velocity with helper and do full step to i+1 "
   ]
  },
  {
   "cell_type": "markdown",
   "metadata": {},
   "source": [
    "# Incredients for $E^{n+\\theta}$\n",
    "\n",
    "$$\n",
    "\\begin{align}\n",
    "A \\cdot \\mathbf{E}^{n+\\theta} & =(\\mathbf{I} + \\mu) \\cdot \\mathbf{E}^{n+\\theta} - (c\\theta\\Delta t)^2 \\left[ \\nabla^2 \\mathbf{E}^{n+\\theta} + \\nabla \\nabla \\cdot (\\mu \\cdot \\mathbf{E}^{n+\\theta}) \\right] \\\\\n",
    "b & =\\mathbf{E}^n + c\\theta\\Delta t \\left( \\nabla \\times \\mathbf{B}^n - \\frac{4\\pi}{c} \\hat{\\mathbf{J}}^n \\right) - (c\\theta\\Delta t)^2 4\\pi \\nabla \\hat{\\rho}^n\n",
    "\\end{align}\n",
    "$$\n",
    "- **Implementierung aller Ableitungen**\n",
    "    - $\\nabla^2$ (Laplace) Vektorfeld F: Fi nach $x^2,y^2,z^2$ abgeleited\n",
    "    - $\\nabla \\nabla$ (Grad(Div($\\boldsymbol{\\cdot}$)) Summe aus \n",
    "    - $\\nabla \\times$ (Curl)\n",
    "    - $\\nabla$ (Divergence)\n",
    "- Alle Variabeln für b $\\hat{\\mathbf{J}}^n$ und $\\hat{\\rho}^n$ <br/>\n",
    "- **Mu** Def:\n",
    "$$\\mu =4 \\pi \\theta \\Delta t \\beta_s \\rho_s \\sum_p \\mathbf{R}_p (\\bullet) $$\n",
    "\n",
    "$$\n",
    "\\mathbf{R}_p (\\bullet )=\\frac{\\bullet+\\frac{\\beta_p}{c} \\bullet \\times \\mathbf{B}_p^n+\\frac{\\beta_p^2}{c^2}(\\bullet \\cdot \\mathbf{B}_p^n ) \\cdot \\mathbf{B}_p^n}{1+\\frac{\\beta_p^2}{c^2}\\left|B_p^n\\right|^2} \n",
    "$$\n",
    "\n",
    "Notiz :\n",
    "$$\n",
    "\\text{grad}(\\text{div}(\\mathbf{F})) = \\nabla (\\nabla \\cdot \\mathbf{F}) = \\left( \\frac{\\partial}{\\partial x} (\\nabla \\cdot \\mathbf{F}), \\frac{\\partial}{\\partial y} (\\nabla \\cdot \\mathbf{F}), \\frac{\\partial}{\\partial z} (\\nabla \\cdot \\mathbf{F}) \\right).\n",
    "$$\n",
    "#### Getting Rho_Hat. Normal Charge Deposition and than get $\\hat{J}^{n}$\n",
    "$$\n",
    "\\begin{align}\n",
    " \\hat{\\rho}^{n}=\\rho^{n}-\\theta \\Delta t \\nabla \\cdot \\hat{J}^{n}\n",
    "\\end{align}\n",
    "$$\n",
    "\n",
    "#### Getting J_Hat \n",
    "$$\n",
    "\\hat{\\mathbf{J}}^n=\\sum_p q_p R(\\mathbf{v}_p)  S\\left(\\mathbf{x}-\\mathbf{x}^n_p\\right)-\\theta \\Delta t \\nabla  \\sum_p q_p R(\\mathbf{v}_p) R(\\mathbf{v}_p) S\\left(\\mathbf{x}-\\mathbf{x}^n_p\\right)\n",
    "$$\n",
    "J und $\\rho$ bestehen sind beides Arrays dh J[index] entspricht einer Pos x. Shae FUnction sind von den PArtikeln\n",
    "\n",
    "\n",
    "## Using now Solver to Get E_theta\n"
   ]
  },
  {
   "cell_type": "markdown",
   "metadata": {},
   "source": [
    "## Deposition From Particles to Grid and vise versa for Later Fields\n",
    "- **Iter** Particle <br/>\n",
    "    - Take Pos X,Y,Z Devide my d(x,y,z)\n",
    "    - Floor it (int())\n",
    "    - Calcalate all 8 Volume if +1  Volume Distribution and Add them to Gridpoints (-1)^m*(x-xp)*(y-yp)*(z-zp) **Wrong Potentially**\n",
    "    -  do 1d each and multiplay easier\n",
    "    -  use Reaptive MApping Modulo <br/>\n",
    "\n",
    "From Code PIC II ion background to neutralize:                   **Not Implemented** <br/>\n",
    "- rho -= NP/mx \n",
    "- rho *= 2*NPpCell*charge/dx\n",
    "**Also for Current**"
   ]
  },
  {
   "cell_type": "markdown",
   "metadata": {},
   "source": [
    "\n",
    "\n",
    "\n",
    "**Sanity Check (Energy Balance):**\n",
    "- $\\mathbf{Electric Energy} \\quad 0.5 \\sum (Efield^2)*dx$\n",
    "- $\\mathbf{Total Engery}$\n",
    "- $\\mathbf{Kinetic Energy} \\quad 0.5*\\rho_{weight} \\sum (vp^2)*dx$ <br/>\n",
    "**t=t+dt**"
   ]
  },
  {
   "cell_type": "markdown",
   "metadata": {},
   "source": [
    "# Give Me some Space to Breath\n",
    "<br/>\n",
    "<br/>\n",
    "<br/>\n",
    "<br/>\n",
    "<br/>\n",
    "<br/>\n",
    "<br/>\n",
    "<br/>\n",
    "<br/>\n",
    "<br/>\n",
    "<br/>\n",
    "Tack"
   ]
  },
  {
   "cell_type": "markdown",
   "metadata": {},
   "source": [
    "# Derivation Intermediate Velocity\n",
    "### Particle Mover (Semi-Implicit)  in CGS: Gauss System (SI without c) c =29,979,245,800 cm/s\n",
    "Update particle positions:\n",
    "        $$\n",
    "          \\vec{x}^{n+1} = \\vec{x}^n +  \\vec{v}^{n+0.5} \\Delta t\n",
    "        $$\n",
    "Update particle velocities with a semi-implicit scheme:\n",
    "        $$\n",
    "             \\frac{\\vec{v}^{n+1} - \\vec{v}^n}{\\Delta t} = \\frac{q}{m}\\left( \\vec{E}^{n+\\theta} + \\frac{\\vec{v}^{n+0.5} }{c} \\times \\vec{B} \\right) \\quad \\vec{v}^{n+0.5} = \\frac{\\vec{x}^{n+1} + \\vec{v}^{n} }{ 2}\n",
    "        $$\n",
    "To Solve Equation First Write the Evolving Velocity scheme in Terms of intermetiate step $\\vec{v}^{n+0.5}$. Use the Identity of $(\\vec{v} x \\vec{B} )x \\vec{B}$ Compute the Cross Product of $\\vec{v}^{n+0.5}$ and B and use the Equation again so it only depends linear on $\\vec{v}^{n+0.5}$ tahn solve for it that gives:\n",
    "$$\n",
    "\\hat{\\mathbf{v}}_p=\\mathbf{v}_p^n+\\frac{q_p \\Delta t}{2 m_p} \\mathbf{E}_p^{n+\\theta}\n",
    "$$\n",
    "we get a formula for the intermediate velocity:\n",
    "$$\n",
    "\\overline{\\mathbf{v}}_p=\\frac{\\hat{\\mathbf{v}}_p+\\frac{q_p \\Delta t}{2 m_p c}\\left(\\hat{\\mathbf{v}}_p \\times \\mathbf{B}_p^n+\\frac{q_p \\Delta t}{2 m_p c}\\left(\\hat{\\mathbf{v}}_p \\cdot \\mathbf{B}_p^n\\right) \\mathbf{B}_p^n\\right)}{1+\\frac{q_p^2 \\Delta t^2}{4 m_p^2 c^2}\\left|B_p^n\\right|^2}\n",
    "$$"
   ]
  },
  {
   "cell_type": "markdown",
   "metadata": {
    "collapsed": false,
    "jupyter": {
     "outputs_hidden": false
    }
   },
   "source": [
    "# Derivation of Linearized Electromagnetic Field Equations\n",
    "\n",
    "Starting with the given time-stepping equations for the electromagnetic fields:\n",
    "$$\n",
    "\\begin{aligned}\n",
    "& \\mathbf{B}^{n+1} = \\mathbf{B}^n - c \\Delta t \\nabla \\times \\mathbf{E}^{n+\\theta}, \\\\\n",
    "& \\mathbf{E}^{n+1} = \\mathbf{E}^n + c \\Delta t \\left( \\nabla \\times \\mathbf{B}^{n+\\theta} - \\frac{4 \\pi}{c} \\mathbf{J}^{n+\\theta} \\right),\n",
    "\\end{aligned}\n",
    "$$\n",
    "we apply the linear interpolation for the fields at the intermediate time step $n+\\theta$:\n",
    " $\\mathbf{E}$, $\\mathbf{B}$. Substituting into the equations, we get:\n",
    "$$\n",
    "\\begin{aligned}\n",
    "& \\mathbf{E}^{n+\\theta} = (1 - \\theta) \\mathbf{E}^n + \\theta \\mathbf{E}^{n+1}, \\\\\n",
    "& \\mathbf{B}^{n+\\theta} = (1 - \\theta) \\mathbf{B}^n + \\theta \\mathbf{B}^{n+1}, \\\\\n",
    "\\end{aligned}\n",
    "$$\n",
    "Than we plug in\n",
    "$$\n",
    "\\begin{aligned}\n",
    "& \\mathbf{E}^{n+\\theta} = (1 - \\theta) \\mathbf{E}^n + \\theta \\mathbf{E}^n +\\theta c \\Delta t \\left( \\nabla \\times \\mathbf{B}^{n+\\theta} - \\frac{4 \\pi}{c} \\mathbf{J}^{n+\\theta} \\right) \\, [5]\\\\\n",
    "& \\mathbf{B}^{n+\\theta} = (1 - \\theta) \\mathbf{B}^n + \\theta \\mathbf{B}^n - \\theta c \\Delta t \\nabla \\times \\mathbf{E}^{n+\\theta} \\\\\n",
    "\\end{aligned}\n",
    "$$\n",
    "2 Terms Cancel $f^{n}*\\theta$. Use Identity of $\\Delta \\times ( \\Delta \\times E)$ after aplaying Curl on B and plug in curl of B in Equation 5. This results in equation for $E^{n+\\theta}$.\n",
    "$$\n",
    "\\begin{equation}\n",
    "\\mathbf{E}^{n+\\theta} - (c\\theta\\Delta t)^2 \\nabla^2 \\mathbf{E}^{n+\\theta} =\n",
    "\\mathbf{E}^n + c\\theta\\Delta t \\left( \\nabla \\times \\mathbf{B}^n - \\frac{4\\pi}{c} \\mathbf{J}^{n+\\theta} \\right) - (c\\theta\\Delta t)^2 4\\pi \\nabla \\rho^{n+\\theta}\n",
    "\\end{equation}\n",
    "$$\n",
    "Für $\\rho$ Tailor Expansion in Time:\n",
    "$$\n",
    "\\begin{align}\n",
    "\\rho^{n+\\theta}&=\\rho(x^{n+\\theta})=\\rho^{n}+(x^{n+\\theta}-x^{n})\\nabla S(x-x^{n}).. \\quad \\quad (x^{n+\\theta}-x^{n})=-\\theta \\nabla t \\overline{\\mathbf{v}}_p \\\\\n",
    "\\rho^{n+\\theta}&=\\rho^{n}-\\theta \\Delta t \\nabla \\cdot J^{n+\\theta}\n",
    "\\end{align}\n",
    "$$"
   ]
  },
  {
   "cell_type": "markdown",
   "metadata": {
    "collapsed": false,
    "jupyter": {
     "outputs_hidden": false
    }
   },
   "source": [
    "\n",
    "We can use the same approximation for $\\mathbf{J}^{n+\\theta}$\n",
    "$$\n",
    "\\mathbf{J}^{n+\\theta}=\\sum_p q_p \\overline{\\mathbf{v}}_p S\\left(\\mathbf{x}-\\mathbf{x}^n\\right)-\\theta \\Delta t \\nabla \\cdot \\sum_p q_p \\overline{\\mathbf{v}}_p \\overline{\\mathbf{v}}_p S\\left(\\mathbf{x}-\\mathbf{x}^n\\right)\n",
    "$$\n",
    "which, rewriting (9) as\n",
    "$$\n",
    "\\begin{array}{lll}\n",
    "\\overline{\\mathbf{v}}_p=\\tilde{\\mathbf{v}}_p+\\beta_p \\tilde{\\mathbf{E}}^{n+\\theta} & \\beta_p=\\frac{q_p \\Delta t}{2 m_p} & \\mu \\cdot=\\sum_s \\mu_s \\\\\n",
    "\\tilde{\\mathbf{v}}_p=\\mathbf{R}_p \\cdot \\mathbf{v}_p & \\tilde{\\mathbf{E}}_p^{n+\\theta}=\\mathbf{R}_p \\cdot \\mathbf{E}^{n+\\theta} & \\mu_{s }\\cdot=4 \\pi \\theta \\Delta t \\beta_s \\rho_s \\sum_p \\mathbf{R}_p \\\\\n",
    "\\mathbf{R}_p \\cdot=\\frac{\\mathbf{I}-\\frac{\\beta_p}{c} \\mathbf{I} \\times \\mathbf{B}_p^n+\\frac{\\beta_p^2}{c^2} \\mathbf{B}_p^n \\cdot \\mathbf{B}_p^n}{1+\\frac{\\beta_p^2}{c^2}\\left|B_p^n\\right|^2} & &\n",
    "\\end{array}\n",
    "$$\n",
    "and with\n",
    "$$\n",
    "\\hat{\\mathbf{J}}^n=\\sum_p q_p \\tilde{\\mathbf{v}}_p  S\\left(\\mathbf{x}-\\mathbf{x}^n\\right)-\\theta \\Delta t \\nabla \\cdot \\sum_p q_p \\tilde{\\mathbf{v}}_p \\tilde{\\mathbf{v}}_p S\\left(\\mathbf{x}-\\mathbf{x}^n\\right)\n",
    "$$\n",
    "plucking in FIrst order also 0\n",
    "$$\n",
    "\\mathbf{J}^{n+\\theta}=\\hat{\\mathbf{J}}^n+\\sum_p q_p  \\beta_p \\tilde{\\mathbf{E}}^{n+\\theta}S\\left(\\mathbf{x}-\\mathbf{x}^n\\right)-\\theta \\Delta t \\nabla \\cdot \\sum_p q_p \\beta_p \\tilde{\\mathbf{E}}^{n+\\theta} \\tilde{\\mathbf{v}}_p S\\left(\\mathbf{x}-\\mathbf{x}^n\\right)+O((\\beta_p \\tilde{\\mathbf{E}}^{n+\\theta})^2)\n",
    "$$\n",
    "gives\n",
    "$$\n",
    "\\mathbf{J}^{n+\\theta}=\\hat{\\mathbf{J}}^n+\\frac{1}{4 \\pi \\theta \\Delta t} \\mu \\cdot \\mathbf{E}^{n+\\theta}\n",
    "$$"
   ]
  },
  {
   "cell_type": "markdown",
   "metadata": {},
   "source": [
    "# Maxwell Equation\n",
    "$$\n",
    "\\begin{aligned}\n",
    "&\\text{Gauss's law for electricity:} && \\nabla \\cdot \\mathbf{E} = 4\\pi \\rho \\\\\n",
    "&\\text{Gauss's law for magnetism:} && \\nabla \\cdot \\mathbf{B} = 0 \\\\\n",
    "&\\text{Faraday's law of induction:} && \\nabla \\times \\mathbf{E} = -\\frac{1}{c} \\frac{\\partial \\mathbf{B}}{\\partial t} \\\\\n",
    "&\\text{Ampère's law (with Maxwell's correction):} && \\nabla \\times \\mathbf{B} = \\frac{1}{c} \\frac{\\partial \\mathbf{E}}{\\partial t} + \\frac{4\\pi}{c} \\mathbf{J}\n",
    "\\end{aligned}\n",
    "$$\n"
   ]
  },
  {
   "cell_type": "markdown",
   "metadata": {
    "collapsed": false,
    "jupyter": {
     "outputs_hidden": false
    }
   },
   "source": [
    "## 📚 References\n",
    "\n",
    "**ChatGPT**\n",
    "- Vu, H. X., & Brackbill, J. U. (1982). A numerical solution method for the two-dimensional magnetohydrodynamic equations. *Journal of Computational Physics*.\n",
    "- Lapenta, G. (2006). Particle simulations of space weather. *Journal of Computational Physics*.\n",
    "\n",
    "**Own Literature**\n",
    "- Ott, Tobias & Pfeiffer, Marcel. (2023). PIC schemes for multi-scale plasma simulations. 10.13009/EUCASS2023-770.\n"
   ]
  },
  {
   "cell_type": "code",
   "execution_count": 3,
   "metadata": {
    "ExecuteTime": {
     "end_time": "2025-06-13T10:16:08.030984Z",
     "start_time": "2025-06-13T10:16:08.019469Z"
    }
   },
   "outputs": [
    {
     "name": "stdout",
     "output_type": "stream",
     "text": [
      "[[1 2 5 6]\n",
      " [3 4 7 8]]\n",
      "[[1 4]\n",
      " [2 5]\n",
      " [3 6]]\n"
     ]
    }
   ],
   "source": [
    "import numpy as np \n",
    "arr1 = np.array([[1, 2], [3, 4]])\n",
    "arr2 = np.array([[5, 6], [7, 8]])\n",
    "\"\"\"\n",
    "Concatenate Verknüpfen: erst über arr1 dann pber arr2 Iterieren\n",
    "Achsen bestimmt die Ausgangs Achse arr[axis=0][axis=0] \n",
    "Axis 0\n",
    "Mapping Elemente of arr1[index] und speicher in new[index] => Einfach aneinanderhängen\n",
    "Axis 1\n",
    "Mapping Elemente of arr1[:][index] und speicher in new[:][index] => Elemente werden nebeinander ANgehängt \n",
    "\"\"\"\n",
    "arr = np.concatenate((arr1, arr2), axis=1)\n",
    "print(arr)\n",
    "arr1 = np.array([1, 2, 3])\n",
    "arr2 = np.array([4, 5, 6])\n",
    "\"\"\"\"\n",
    "Stacking fügt einfach nur anneinander und zusammenzufügen \n",
    "Axis 0\n",
    "Takes arr1 und put it  in new[index] => Zusammenspeichern getrennt\n",
    "Axis 1\n",
    "Mapping Elemente of arr1 und speicher in new[index][0] für array2 index=1 \n",
    "\"\"\"\n",
    "arr = np.stack((arr1, arr2), axis=1)\n",
    "print(arr)"
   ]
  },
  {
   "cell_type": "code",
   "execution_count": 4,
   "metadata": {},
   "outputs": [
    {
     "name": "stdout",
     "output_type": "stream",
     "text": [
      "(3, 5)\n",
      "(5,)\n",
      "[ 0.  0.  3. 98.  0.]\n"
     ]
    }
   ],
   "source": [
    "arr1 = np.zeros([3,5])\n",
    "print(np.shape(arr1))\n",
    "arr1[:,2]=[1,1,1]\n",
    "arr1[:,3]=[7,0,7]\n",
    "result = np.sum(arr1**2, axis=0)  # Summe der Quadrate entlang axis=0\n",
    "print(np.shape(result))  # Ausgabe: (5,)\n",
    "print(result)"
   ]
  },
  {
   "cell_type": "code",
   "execution_count": 12,
   "metadata": {
    "collapsed": false,
    "jupyter": {
     "outputs_hidden": false
    }
   },
   "outputs": [
    {
     "ename": "TypeError",
     "evalue": "'int' object is not iterable",
     "output_type": "error",
     "traceback": [
      "\u001b[1;31m---------------------------------------------------------------------------\u001b[0m",
      "\u001b[1;31mTypeError\u001b[0m                                 Traceback (most recent call last)",
      "Cell \u001b[1;32mIn[12], line 5\u001b[0m\n\u001b[0;32m      2\u001b[0m Ny\u001b[38;5;241m=\u001b[39mNz\u001b[38;5;241m=\u001b[39m\u001b[38;5;241m1\u001b[39m\n\u001b[0;32m      3\u001b[0m \u001b[38;5;66;03m#rho = np.zeros([Nx, Ny, Nz])\u001b[39;00m\n\u001b[0;32m      4\u001b[0m \u001b[38;5;66;03m#print(rho)\u001b[39;00m\n\u001b[1;32m----> 5\u001b[0m \u001b[38;5;28mprint\u001b[39m(\u001b[38;5;28;43mlist\u001b[39;49m\u001b[43m(\u001b[49m\u001b[43mNx\u001b[49m\u001b[43m)\u001b[49m)\n",
      "\u001b[1;31mTypeError\u001b[0m: 'int' object is not iterable"
     ]
    }
   ],
   "source": [
    "\n",
    "Nx= (4,2)\n",
    "Ny=Nz=1\n",
    "rho = np.zeros([Nx, Ny, Nz])\n",
    "#print(rho)\n",
    "print(list(Nx))"
   ]
  },
  {
   "cell_type": "code",
   "execution_count": null,
   "metadata": {},
   "outputs": [],
   "source": []
  }
 ],
 "metadata": {
  "kernelspec": {
   "display_name": "Python 3 (ipykernel)",
   "language": "python",
   "name": "python3"
  },
  "language_info": {
   "codemirror_mode": {
    "name": "ipython",
    "version": 3
   },
   "file_extension": ".py",
   "mimetype": "text/x-python",
   "name": "python",
   "nbconvert_exporter": "python",
   "pygments_lexer": "ipython3",
   "version": "3.10.5"
  }
 },
 "nbformat": 4,
 "nbformat_minor": 4
}
